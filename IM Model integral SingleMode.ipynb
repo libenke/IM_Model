{
 "cells": [
  {
   "cell_type": "markdown",
   "id": "be2691b7-0697-42fa-9f60-c5d70b692383",
   "metadata": {},
   "source": [
    "# IM (Ianniruberto, G.and Marrucci, G.) Model\n",
    "ref: Ianniruberto, G.; Marrucci, G. A simple constitutive equation for entangled polymers with chain stretch. *Journal of Rheology* __2001__, 45, 1305-1318.  \n",
    "ref: Costanzo, S.; Huang, Q.; Ianniruberto, G.; Marrucci, G.; Hassager, O.; Vlassopoulos, D. Shear and Extensional Rheology of Polystyrene Melts and Solutions with the Same Number of Entanglements. *Macromolecules* __2016__, 49, 3925-3935."
   ]
  },
  {
   "cell_type": "markdown",
   "id": "e0245a8b-03ed-46ef-bf9a-5fde141aba6d",
   "metadata": {},
   "source": [
    "## The Classical CCR Model\n",
    "ref: Ianniruberto, G.; Marrucci, G. A simple constitutive equation for entangled polymers with chain stretch. *Journal of Rheology* __2001__, 45, 1305-1318.  \n",
    "Define an effective time $\\tau$ to replace the disengagement time $\\tau_d$ in DE model:  \n",
    "The classical DE model of $\\mathbf{S}(t)$ is replaced to be:  \n",
    "\n",
    "$$\\begin{align}\n",
    "\\mathbf{S}(t) &= \\int_{-\\infty}^t \\left[\\frac{1}{\\tau(t')}\\right] \\exp \\left[-\\int_{t'}^t \\frac{dt''}{\\tau(t'')}\\right] \\mathbf{Q}\\left[\\mathbf{E}(t,t')\\right] dt' \\\\\n",
    "\\tau &= \\frac{1}{2\\left(\\frac{1}{\\tau_d}+\\boldsymbol{\\kappa}:\\mathbf{S}\\right)} +\\tau_R \\\\\n",
    "\\frac{d\\lambda}{dt} &= \\lambda\\boldsymbol{\\kappa}:\\mathbf{S} - \\frac{\\lambda F(\\lambda)-1}{\\tau_R} \\\\\n",
    "F(\\lambda)&=\\left(\\frac{\\lambda_{max}^2-\\frac{\\lambda^2}{3}}{\\lambda_{max}^2-\\lambda^2}\\right)\\left(\\frac{\\lambda_{max}^2-1}{\\lambda_{max}^2-\\frac{1}{3}}\\right) \\\\\n",
    "\\boldsymbol{\\sigma} &= 3G_N^0F(\\lambda)\\lambda^2\\boldsymbol{S}\n",
    "\\end{align}$$  "
   ]
  },
  {
   "cell_type": "markdown",
   "id": "2bf27c11-eb64-473c-add2-97c2e2227def",
   "metadata": {},
   "source": [
    "$$\\begin{align}\n",
    "\\mathbf{S}(t) =& \\int_{0}^t \\left[\\frac{1}{\\tau(t')}\\right] \\exp \\left[-\\int_{t'}^t \\frac{dt''}{\\tau(t'')}\\right] \\mathbf{Q}\\left[\\mathbf{E}(t,t')\\right] dt' \\\\\n",
    "&+\\int_{-\\infty}^0 \\left[\\frac{1}{\\tau(0)}\\right] \\exp \\left[-\\int_{t'}^t \\frac{dt''}{\\tau(t'')}\\right] \\mathbf{Q}\\left[\\mathbf{E}(t,0)\\right] dt' \n",
    "\\end{align}$$\n",
    "The second parts becomes:  \n",
    "$$\\begin{align}\n",
    "\\mathbf{S}(t) =& ...\\\\\n",
    "&+\\int_{-\\infty}^0 \\frac{1}{\\tau(0)} \\exp \\left[-\\int_{t'}^{0} \\frac{dt''}{\\tau(0)}-\\int_0^t\\frac{dt''}{\\tau(t'')}\\right] \\mathbf{Q}\\left[\\mathbf{E}(t,0)\\right] dt' \\\\\n",
    "=& ...\\\\\n",
    "&+\\int_{-\\infty}^0 \\frac{1}{\\tau(0)} \\exp \\left[\\frac{t'}{\\tau(0)}-\\int_0^t\\frac{dt''}{\\tau(t'')}\\right] \\mathbf{Q}\\left[\\mathbf{E}(t,0)\\right] dt' \\\\\n",
    "=& ...\\\\\n",
    "&+ \\exp \\left[\\frac{t'}{\\tau(0)}-\\int_0^t\\frac{dt''}{\\tau(t'')}\\right] \\mathbf{Q}\\left[\\mathbf{E}(t,0)\\right] \\bigg |_{t'=-\\infty}^{t'=0}\\\\\n",
    "=& ...\\\\\n",
    "&+ \\exp \\left[-\\int_0^t\\frac{dt''}{\\tau(t'')}\\right] \\mathbf{Q}\\left[\\mathbf{E}(t,0)\\right]\n",
    "\\end{align}$$"
   ]
  },
  {
   "cell_type": "code",
   "execution_count": 1,
   "id": "0402c5ac-0a97-4bd6-88fd-6cb668edc643",
   "metadata": {},
   "outputs": [],
   "source": [
    "import numpy as np\n",
    "import scipy as sp\n",
    "import pandas as pd\n",
    "from matplotlib import pylab"
   ]
  },
  {
   "cell_type": "code",
   "execution_count": 2,
   "id": "f937f31a-6120-44df-a472-22e3683173af",
   "metadata": {},
   "outputs": [],
   "source": [
    "#parameters for PS133k in ref: Costanzo, S. et al. Macromolecules 2016, 49, 3925-3935.\n",
    "GN0 = 2.79E5\n",
    "τc = 1.24E-3\n",
    "τR = 0.124\n",
    "λmax = 3.34\n",
    "CQ = 6\n",
    "Gi = np.array([1.14E2, 2.52, 8.80E-1, 3.81E-1, 2.07E-1, 1.70E-1, 1.76E-1, 1.37E-1, 2.03E-1]) * GN0\n",
    "τi_eq = np.array([2.16E-3, 5.90E-2, 3.33E-1, 1.53, 6.87, 2.9E1, 1.11E2, 3.63E2, 8.92E2]) * τc\n",
    "τd_eq = np.sum(Gi*τi_eq**2)/np.sum(Gi*τi_eq)"
   ]
  },
  {
   "cell_type": "code",
   "execution_count": 9,
   "id": "ba17a3fa-8152-4387-bbd1-09412acb5ee0",
   "metadata": {},
   "outputs": [],
   "source": [
    "shear_rate = 31.6 # 1/s\n",
    "κ = np.array([[0,shear_rate,0],\\\n",
    "              [0,0,0],\\\n",
    "              [0,0,0]])\n",
    "δt = 0.001 # seconds\n",
    "finish_time = 10 # senconds\n",
    "t_span = np.arange(0,finish_time,δt)"
   ]
  },
  {
   "cell_type": "code",
   "execution_count": 16,
   "id": "a60dd7f8-eb9f-4cab-85f6-9d807c562cd3",
   "metadata": {},
   "outputs": [
    {
     "data": {
      "text/plain": [
       "(0.8743363392883154, 0.124)"
      ]
     },
     "execution_count": 16,
     "metadata": {},
     "output_type": "execute_result"
    }
   ],
   "source": [
    "τd_eq, τR"
   ]
  },
  {
   "cell_type": "code",
   "execution_count": 10,
   "id": "7da40350-32c8-48b9-86c0-42c3237ba7f0",
   "metadata": {},
   "outputs": [],
   "source": [
    "def S_integral(Q_span,δt,t,τd_span):\n",
    "    \"\"\"\n",
    "    the Q_span,τd_span were trancate in the time t\n",
    "    usage: S_integral(Q_span[:ind+1,:,:],δt,τd_span[:ind+1])\n",
    "    \"\"\"\n",
    "    #\\int_t'^t dt''/taud(t'')\n",
    "    τd_inv = 1/τd_span\n",
    "    #exp[-\\int_t'^t dt''/taud(t'')]\n",
    "    exp_minus_int_tp_t_τd_inv = np.exp(-np.cumsum(τd_inv[::-1]) * δt)[::-1]\n",
    "    #integral from time=0 to time t\n",
    "    S00 = np.sum(τd_inv * exp_minus_int_tp_t_τd_inv * Q_span[::-1,0,0]) * δt\n",
    "    S01 = np.sum(τd_inv * exp_minus_int_tp_t_τd_inv * Q_span[::-1,0,1]) * δt\n",
    "    S02 = np.sum(τd_inv * exp_minus_int_tp_t_τd_inv * Q_span[::-1,0,2]) * δt\n",
    "    S11 = np.sum(τd_inv * exp_minus_int_tp_t_τd_inv * Q_span[::-1,1,1]) * δt\n",
    "    S12 = np.sum(τd_inv * exp_minus_int_tp_t_τd_inv * Q_span[::-1,1,2]) * δt\n",
    "    S22 = np.sum(τd_inv * exp_minus_int_tp_t_τd_inv * Q_span[::-1,2,2]) * δt\n",
    "    S_0_t = np.array([[S00,S01,S02],\\\n",
    "                    [S01,S11,S12],\\\n",
    "                    [S02,S12,S22]])\n",
    "    #plus the integral from time = 0 to time = -infinite\n",
    "    S = S_0_t + np.exp(-np.sum(1/τd_span)*δt) * Q_span[-1,:,:]\n",
    "    return S"
   ]
  },
  {
   "cell_type": "code",
   "execution_count": 11,
   "id": "cd80d3f3-996e-468d-a7d5-6058f1adba88",
   "metadata": {},
   "outputs": [],
   "source": [
    "Q_span = np.zeros([len(t_span),3,3]) # nonlinear strain measure\n",
    "S_span = np.zeros([len(t_span),3,3]) # orientation tensor\n",
    "τd_span = np.zeros(len(t_span)) # tau_d\n",
    "λ_span = np.zeros(len(t_span)) # λ\n",
    "σ_span = np.zeros([len(t_span),3,3]) # σ stress\n",
    "for ind,t in enumerate(t_span):\n",
    "    # initial the value at time = 0s \n",
    "    if ind == 0:\n",
    "        Q_span[0,:,:] = np.eye(3)/3\n",
    "        S_span[0,:,:] = np.eye(3)/3\n",
    "        τd_span[0] = τd_eq/2 + τR\n",
    "        λ_span[0] = 1\n",
    "        σ_span[0,:,:] = 3 * GN0 * np.eye(3)/3\n",
    "        continue\n",
    "    \n",
    "    # calculate the Q at time t.\n",
    "    γ_history = t * shear_rate\n",
    "    E = np.eye(3)\n",
    "    E[0,1] = γ_history\n",
    "    B = np.dot(E,E.T)\n",
    "    eigs, eig_vec = np.linalg.eig(B)\n",
    "    B_square_root = np.dot(eig_vec,np.dot(np.diag(np.sqrt(eigs)),eig_vec.T))\n",
    "    Q_span[ind,:,:] = B_square_root/np.trace(B_square_root)\n",
    "    \n",
    "    # calculate the τd(t)\n",
    "    # S at time t\n",
    "    S_t = S_span[ind-1,:,:]\n",
    "    τd_t = 1/2/(1/τd_eq + np.trace(np.dot(κ,S_t))) + τR\n",
    "    τd_span[ind] = τd_t\n",
    "    #S at time t update\n",
    "    S_update = S_integral(Q_span[:ind+1,:,:],δt,t,τd_span[:ind+1])\n",
    "    S_span[ind,:,:] = S_update\n",
    "    \n",
    "    # calculate the dλ_dt\n",
    "    λ = λ_span[ind-1]\n",
    "    Fλ = (λmax**2 - λ**2/3)/(λmax**2 - λ**2)*(λmax**2 - 1)/(λmax**2 - 1/3)\n",
    "    dλ_dt = λ * np.trace(np.dot(κ,S_update)) - (λ * Fλ - 1) / τR\n",
    "    λ_update = λ + dλ_dt * δt\n",
    "    λ_span[ind] = λ_update\n",
    "    Fλ_update = (λmax**2 - λ_update**2/3)/(λmax**2 - λ_update**2) * (λmax**2 - 1)/(λmax**2 - 1/3)\n",
    "    σ_update = 3 * GN0 * Fλ_update * λ_update**2 * S_update\n",
    "    σ_span[ind] = σ_update"
   ]
  },
  {
   "cell_type": "code",
   "execution_count": 12,
   "id": "5cc11822-3e34-4966-b0bb-439a95660bd0",
   "metadata": {},
   "outputs": [
    {
     "data": {
      "text/plain": [
       "[<matplotlib.lines.Line2D at 0x200bd74c790>]"
      ]
     },
     "execution_count": 12,
     "metadata": {},
     "output_type": "execute_result"
    },
    {
     "data": {
      "image/png": "[encoded data removed]",
      "text/plain": [
       "<Figure size 640x480 with 1 Axes>"
      ]
     },
     "metadata": {},
     "output_type": "display_data"
    }
   ],
   "source": [
    "pylab.semilogx(t_span,S_span[:,0,0]+S_span[:,1,1]+S_span[:,2,2],'bo')"
   ]
  },
  {
   "cell_type": "code",
   "execution_count": 13,
   "id": "f75c43f4-fe0a-410a-895d-266dcf114d65",
   "metadata": {},
   "outputs": [
    {
     "data": {
      "text/plain": [
       "[<matplotlib.lines.Line2D at 0x200bb32ec50>]"
      ]
     },
     "execution_count": 13,
     "metadata": {},
     "output_type": "execute_result"
    },
    {
     "data": {
      "image/png": "[encoded data removed]",
      "text/plain": [
       "<Figure size 640x480 with 1 Axes>"
      ]
     },
     "metadata": {},
     "output_type": "display_data"
    }
   ],
   "source": [
    "pylab.loglog(t_span-δt,σ_span[:,0,1]/shear_rate,'bo')\n",
    "pylab.loglog(t_span-δt,(σ_span[:,0,0]-σ_span[:,1,1])/shear_rate,'r-')\n",
    "pylab.loglog(t_span-δt,(σ_span[:,2,2]-σ_span[:,1,1])/shear_rate,'g.')"
   ]
  },
  {
   "cell_type": "code",
   "execution_count": 14,
   "id": "7e305aaa-f65f-47ad-ba27-3aebd2bd2583",
   "metadata": {},
   "outputs": [
    {
     "data": {
      "text/plain": [
       "[<matplotlib.lines.Line2D at 0x200bb55efd0>]"
      ]
     },
     "execution_count": 14,
     "metadata": {},
     "output_type": "execute_result"
    },
    {
     "data": {
      "image/png": "[encoded data removed]",
      "text/plain": [
       "<Figure size 640x480 with 1 Axes>"
      ]
     },
     "metadata": {},
     "output_type": "display_data"
    }
   ],
   "source": [
    "pylab.semilogx(t_span,τd_span,'ro')\n",
    "pylab.semilogx(t_span,λ_span,'bo')"
   ]
  },
  {
   "cell_type": "markdown",
   "id": "8b5e9a58-5c57-4049-95df-353046812b55",
   "metadata": {},
   "source": [
    "## Approximation of nonlinear strain measure $\\mathbf{Q}\\left[\\mathbf{E}(t,t')\\right]$\n",
    "1. A highly accurate approximation for this strain measure is:  \n",
    "ref: chapter 11.3 of Dealy, J. M. Larson, R. G. Read, D. J. \"Structure and rheology of molten polymers, from structure to flow behavior and back again.\" __2018__, Carl Hanser Verlag GmbH Co KG.\n",
    "$$\\mathbf{Q} \\approx  \\left(\\frac{5}{J-1}\\right)\\mathbf{B} - \\left[\\frac{5}{(J-1)(I_2+13/4)^{1/2}}\\right]\\mathbf{C}$$\r",
    "here:  \n",
    "$$J\\equiv I_1+2(I_2+13/4)^{1/2}$$\n",
    "$$I_1\\equiv \\mathrm{Tr}(\\mathbf{B})$$\n",
    "$$I_2\\equiv \\mathrm{Tr}(\\mathbf{C})$$\n",
    "$\\mathbf{B}$ is the Finger tensor, and $\\mathbf{C}$ is the Cauchy tensor.  \n",
    "2. Marrucci et al. proposed another approximation of this strain measure, which gives a much improved prediction of the normal stress ratio in shear, namely $-N_2/N_1=1/4$ in the limit of small strains, as compared to Doi-Edwards value of 1/7. ref: Milner, S. T. Improved model of nonaffine strain measure. *Journal of Rheology* __2001__, 45, 1023-1028.\n",
    "$$\n",
    "\\mathbf{Q}(\\mathbf{E})=\\frac{\\mathbf{C}^{-1/2}}{\\mathrm{Tr}(\\mathbf{C^{-1/2}})}\n",
    "$$\n",
    "here:\n",
    "$\\mathbf{C}^{-1}=\\mathbf{E}\\cdot\\mathbf{E}^T$ is the finger tensor. $\\mathbf{E}$ is the inverse of displacement gradient tensor.\n"
   ]
  },
  {
   "cell_type": "code",
   "execution_count": 35,
   "id": "ccdcc8af-fbbf-4c36-b6ed-7ad9dfa33a06",
   "metadata": {},
   "outputs": [
    {
     "data": {
      "text/plain": [
       "[<matplotlib.lines.Line2D at 0x1207c4b9010>]"
      ]
     },
     "execution_count": 35,
     "metadata": {},
     "output_type": "execute_result"
    },
    {
     "data": {
      "image/png": "[encoded data removed]",
      "text/plain": [
       "<Figure size 640x480 with 1 Axes>"
      ]
     },
     "metadata": {},
     "output_type": "display_data"
    }
   ],
   "source": [
    "pylab.plot(t_span,np.trace(Q_span_2,axis1=1,axis2=2))"
   ]
  },
  {
   "cell_type": "code",
   "execution_count": 36,
   "id": "ac0a3cc3-cdf0-421b-ade0-b0e127ba007a",
   "metadata": {},
   "outputs": [],
   "source": [
    "Q_span = np.zeros([len(t_span),3,3]) # nonlinear strain measure\n",
    "Q_span_2 = np.zeros([len(t_span),3,3]) \n",
    "for ind,t in enumerate(t_span):\n",
    "    #calculate the Q at time t.\n",
    "    γ_history = t * shear_rate\n",
    "    E = np.eye(3)\n",
    "    E[0,1] = γ_history\n",
    "    B = np.dot(E,E.T)\n",
    "    eigs, eig_vec = np.linalg.eig(B)\n",
    "    B_square_root = np.dot(eig_vec,np.dot(np.diag(np.sqrt(eigs)),eig_vec.T))\n",
    "    Q_span[ind,:,:] = B_square_root/np.trace(B_square_root)\n",
    "\n",
    "    #another method to calculate Q\n",
    "    γ_history = t * shear_rate\n",
    "    E = np.eye(3)\n",
    "    E[0,1] = γ_history\n",
    "    B = np.dot(E,E.T)\n",
    "    F = np.eye(3)\n",
    "    F[0,1] = γ_history\n",
    "    C = np.dot(F.T,F)\n",
    "    I1 = np.trace(B)\n",
    "    I2 = np.trace(C)\n",
    "    J = I1 + 2 * (I2 + 13/4)**0.5\n",
    "    Q_span_2[ind,:,:] = 5/(J-1) * (B - (I2 + 13/4)**-0.5 * C)"
   ]
  },
  {
   "cell_type": "markdown",
   "id": "fdc31e80-9cfa-49ad-9011-64618513b7ee",
   "metadata": {},
   "source": [
    "## Finger Tensor $\\mathbf{B}$ and Cauchy Tensor $\\mathbf{C}$\n",
    "#### For simple shear:  \n",
    "$$\\mathbf{F} (t_0,t_1)=\\begin{pmatrix}\n",
    " 1 & \\gamma (t_1)-\\gamma (t_0) & 0\\\\\n",
    " 0 & 1 & 0\\\\\n",
    " 0 & 0 &1\n",
    "\\end{pmatrix}$$\n",
    "$$\\mathbf{E} (t_0,t_1)=\\begin{pmatrix}\n",
    " 1 & \\gamma (t_0)-\\gamma (t_1) & 0\\\\\n",
    " 0 & 1 & 0\\\\\n",
    " 0 & 0 &1\n",
    "\\end{pmatrix}$$  \n",
    "The Cauchy Tensor, also known as right Cauchy–Green deformation tensor, $\\mathbf{C}$:  \n",
    "$$\n",
    "\\begin{align}\n",
    "\\mathbf{C} &= \\mathbf{F}^T\\cdot\\mathbf{F} \\\\\n",
    "&=\\begin{pmatrix}\n",
    " 1 & \\gamma & 0\\\\\n",
    " \\gamma & 1+\\gamma^2 & 0\\\\\n",
    " 0 & 0 &1\n",
    "\\end{pmatrix}\n",
    "\\end{align}\n",
    "$$\n",
    "The Finger Tensor, also known as left Cauchy–Green deformation tensor, $\\mathbf{B}$:  \n",
    "$$\\begin{align}\n",
    "\\mathbf{B} &= \\mathbf{F}\\cdot\\mathbf{F}^{T} \\\\\n",
    "&=\\begin{pmatrix}\n",
    " 1+\\gamma^2 & \\gamma & 0\\\\\n",
    " \\gamma & 1 & 0\\\\\n",
    " 0 & 0 &1\n",
    "\\end{pmatrix}\n",
    "\\end{align}$$\n",
    "Sometimes, Finger strain tensor is also defined by inverse of Cauchy tensor as (ref: Milner, S. T. *Journal of Rheology* __2001__, 45, 1023-1028.):  \n",
    "$$\n",
    "\\mathbf{B} = \\mathbf{C}^{-1} = \\mathbf{E}\\cdot\\mathbf{E}^T = \\begin{pmatrix}\n",
    " 1+\\gamma^2 & -\\gamma & 0\\\\\n",
    " -\\gamma & 1 & 0\\\\\n",
    " 0 & 0 &1\n",
    "\\end{pmatrix}\n",
    "$$\n",
    "Here, the diagonal is the same, while the $B_{0,1}, B_{0,2}, B_{1,2}$ parts are negative.  "
   ]
  }
 ],
 "metadata": {
  "kernelspec": {
   "display_name": "Python 3 (ipykernel)",
   "language": "python",
   "name": "python3"
  },
  "language_info": {
   "codemirror_mode": {
    "name": "ipython",
    "version": 3
   },
   "file_extension": ".py",
   "mimetype": "text/x-python",
   "name": "python",
   "nbconvert_exporter": "python",
   "pygments_lexer": "ipython3",
   "version": "3.11.5"
  }
 },
 "nbformat": 4,
 "nbformat_minor": 5
}
