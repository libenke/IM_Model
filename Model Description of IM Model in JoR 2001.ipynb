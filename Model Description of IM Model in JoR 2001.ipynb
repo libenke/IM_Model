{
 "cells": [
  {
   "cell_type": "markdown",
   "id": "be2691b7-0697-42fa-9f60-c5d70b692383",
   "metadata": {},
   "source": [
    "# IM (Ianniruberto, G.and Marrucci, G.) Model\n",
    "ref: Ianniruberto, G.; Marrucci, G. A simple constitutive equation for entangled polymers with chain stretch. *Journal of Rheology* __2001__, 45, 1305-1318.  "
   ]
  },
  {
   "cell_type": "markdown",
   "id": "9747de1c-7657-474f-8a68-39192a392c0a",
   "metadata": {},
   "source": [
    "## Evolution of stretch ratio $\\lambda$\n",
    "definition:\n",
    "$$\\lambda = L/L_0$$\n",
    "here, $L$ is the current tube length, $L_0$ is the equilibrium value.  \n",
    "With extending to finite extensibility (FENE), $\\lambda$ was replaced by $F(\\lambda)$  \n",
    "ref: chapter 11.3.2 of Dealy, J. M. Larson, R. G. Read, D. J. \"Structure and rheology of molten polymers, from structure to flow behavior and back again.\" __2018__, Carl Hanser Verlag GmbH Co KG.  \n",
    "ref: Taghipour, H.; Costanzo, S.; Vlassopoulos, D.; van Ruymbeke, E.; Hawke, L. G. D. Entangled linear polymers in fast shear flows: Comparison of tube-model predictions and experimental data. *Journal of Rheology* __2021__, 65, 1111-1137.  \n",
    "$$\n",
    "F(\\lambda)=\\left(\\frac{\\lambda_{max}^2-\\frac{\\lambda^2}{3}}{\\lambda_{max}^2-\\lambda^2}\\right)\\left(\\frac{\\lambda_{max}^2-1}{\\lambda_{max}^2-\\frac{1}{3}}\\right)\n",
    "$$  \n",
    "Evolution of stretch ratio $\\lambda$  \n",
    "$$\\frac{d\\lambda}{dt} = \\lambda\\boldsymbol{\\kappa}:\\mathbf{S} - \\frac{\\lambda F(\\lambda)-1}{\\tau_R}$$"
   ]
  },
  {
   "cell_type": "markdown",
   "id": "fdc31e80-9cfa-49ad-9011-64618513b7ee",
   "metadata": {},
   "source": [
    "## Finger Tensor $\\mathbf{B}$ and Cauchy Tensor $\\mathbf{C}$\n",
    "#### For simple shear:  \n",
    "$$\\mathbf{F} (t_0,t_1)=\\begin{pmatrix}\n",
    " 1 & \\gamma (t_1)-\\gamma (t_0) & 0\\\\\n",
    " 0 & 1 & 0\\\\\n",
    " 0 & 0 &1\n",
    "\\end{pmatrix}$$\n",
    "$$\\mathbf{E} (t_0,t_1)=\\begin{pmatrix}\n",
    " 1 & \\gamma (t_0)-\\gamma (t_1) & 0\\\\\n",
    " 0 & 1 & 0\\\\\n",
    " 0 & 0 &1\n",
    "\\end{pmatrix}$$  \n",
    "The Cauchy Tensor, also known as right Cauchy–Green deformation tensor, $\\mathbf{C}$:  \n",
    "$$\n",
    "\\begin{align}\n",
    "\\mathbf{C} &= \\mathbf{F}^T\\cdot\\mathbf{F} \\\\\n",
    "&=\\begin{pmatrix}\n",
    " 1 & \\gamma & 0\\\\\n",
    " \\gamma & 1+\\gamma^2 & 0\\\\\n",
    " 0 & 0 &1\n",
    "\\end{pmatrix}\n",
    "\\end{align}\n",
    "$$\n",
    "The Finger Tensor, also known as left Cauchy–Green deformation tensor, $\\mathbf{B}$:  \n",
    "$$\\begin{align}\n",
    "\\mathbf{B} &= \\mathbf{F}\\cdot\\mathbf{F}^{T} \\\\\n",
    "&=\\begin{pmatrix}\n",
    " 1+\\gamma^2 & \\gamma & 0\\\\\n",
    " \\gamma & 1 & 0\\\\\n",
    " 0 & 0 &1\n",
    "\\end{pmatrix}\n",
    "\\end{align}$$\n",
    "Sometimes, Finger strain tensor is also defined by inverse of Cauchy tensor as (ref: Milner, S. T. *Journal of Rheology* __2001__, 45, 1023-1028.):  \n",
    "$$\n",
    "\\mathbf{B} = \\mathbf{C}^{-1} = \\mathbf{E}\\cdot\\mathbf{E}^T = \\begin{pmatrix}\n",
    " 1+\\gamma^2 & -\\gamma & 0\\\\\n",
    " -\\gamma & 1 & 0\\\\\n",
    " 0 & 0 &1\n",
    "\\end{pmatrix}\n",
    "$$\n",
    "Here, the diagonal is the same, while the $B_{0,1}, B_{0,2}, B_{1,2}$ parts are negative.  "
   ]
  },
  {
   "cell_type": "markdown",
   "id": "3f5e3428-0f99-4f71-8175-b5ee790fd559",
   "metadata": {},
   "source": [
    "## Doi-Edwards Model\n",
    "in classic DE Model, the orientation tensor $\\mathbf{S}$ could be expressed as:  \n",
    "$$\n",
    "\\mathbf{S} = \\int_{-\\infty}^t \\frac{dt'}{\\tau_d} \\exp\\left(-\\frac{t-t'}{\\tau_d}\\right) \\mathbf{Q}[\\mathbf{E}(t,t')]\n",
    "$$\n",
    "## The Classical CCR Model\n",
    "ref: Ianniruberto, G.; Marrucci, G. A simple constitutive equation for entangled polymers with chain stretch. *Journal of Rheology* __2001__, 45, 1305-1318.  \n",
    "Define an effective time $\\tau_{eff}$ to replace the disengagement time $\\tau_d$ in DE model:  \n",
    "$$\n",
    "\\frac{1}{\\tau_{eff}} = \\frac{1}{2\\left(\\frac{1}{\\tau_d}+\\boldsymbol{\\kappa}:\\mathbf{S}\\right)} +\\tau_R\n",
    "$$\n",
    "The classical DE model of $\\mathbf{S}(t)$ is replaced to be:  \n",
    "$$\n",
    "\\mathbf{S}(t) = \\int_{-\\infty}^t \\left[\\frac{1}{\\tau_{eff}(t')}\\right] \\exp \\left[-\\int_{t'}^t \\frac{dt''}{\\tau_{eff}(t'')}\\right] \\mathbf{Q}\\left[\\mathbf{E}(t,t')\\right] dt'\n",
    "$$"
   ]
  },
  {
   "cell_type": "markdown",
   "id": "8b5e9a58-5c57-4049-95df-353046812b55",
   "metadata": {},
   "source": [
    "## Approximation of nonlinear strain measure $\\mathbf{Q}\\left[\\mathbf{E}(t,t')\\right]$\n",
    "1. A highly accurate approximation for this strain measure is:  \n",
    "ref: chapter 11.3 of Dealy, J. M. Larson, R. G. Read, D. J. \"Structure and rheology of molten polymers, from structure to flow behavior and back again.\" __2018__, Carl Hanser Verlag GmbH Co KG.\n",
    "$$\\mathbf{Q} \\approx  \\left(\\frac{5}{J-1}\\right)\\mathbf{B} - \\left[\\frac{5}{(J-1)(I_2+13/4)^{1/2}}\\right]\\mathbf{C}$$\r",
    "here:  \n",
    "$$J\\equiv I_1+2(I_2+13/4)^{1/2}$$\n",
    "$$I_1\\equiv \\mathrm{Tr}(\\mathbf{B})$$\n",
    "$$I_2\\equiv \\mathrm{Tr}(\\mathbf{C})$$\n",
    "$\\mathbf{B}$ is the Finger tensor, and $\\mathbf{C}$ is the Cauchy tensor.  \n",
    "2. Marrucci et al. proposed another approximation of this strain measure, which gives a much improved prediction of the normal stress ratio in shear, namely $-N_2/N_1=1/4$ in the limit of small strains, as compared to Doi-Edwards value of 1/7. ref: Milner, S. T. Improved model of nonaffine strain measure. *Journal of Rheology* __2001__, 45, 1023-1028.\n",
    "$$\n",
    "\\mathbf{Q}(\\mathbf{E})=\\frac{\\mathbf{C}^{-1/2}}{\\mathrm{Tr}(\\mathbf{C^{-1/2}})}\n",
    "$$\n",
    "here:\n",
    "$\\mathbf{C}^{-1}=\\mathbf{E}\\cdot\\mathbf{E}^T$ is the finger tensor. $\\mathbf{E}$ is the inverse of displacement gradient tensor.\n"
   ]
  }
 ],
 "metadata": {
  "kernelspec": {
   "display_name": "Python 3 (ipykernel)",
   "language": "python",
   "name": "python3"
  },
  "language_info": {
   "codemirror_mode": {
    "name": "ipython",
    "version": 3
   },
   "file_extension": ".py",
   "mimetype": "text/x-python",
   "name": "python",
   "nbconvert_exporter": "python",
   "pygments_lexer": "ipython3",
   "version": "3.11.5"
  }
 },
 "nbformat": 4,
 "nbformat_minor": 5
}
