{
 "cells": [
  {
   "cell_type": "markdown",
   "id": "9747de1c-7657-474f-8a68-39192a392c0a",
   "metadata": {},
   "source": [
    "# IM_Tumbling (Ianniruberto, G.and Marrucci, G.) Model \n",
    "refs (Constituve equations and CCR term):  \n",
    "1. Costanzo, S.; Huang, Q.; Ianniruberto, G.; Marrucci, G.; Hassager, O.; Vlassopoulos, D. Shear and Extensional Rheology of Polystyrene Melts and Solutions with the Same Number of Entanglements. *Macromolecules* __2016__, 49, 3925-3935. \n",
    "2. Ianniruberto, G., and G. Marrucci, On compatibility of the Cox-Merz rule with the model of Doi and \n",
    "Edward.”* J. Non-Newtonian Fluid Mech*.__1996__,  65, 24-–24)\n",
    "3. Mead, D. W., R. G. Larson, and M. Doi, A molecular theory for fast flows of entangled polymers. *\n",
    "Macromolecule*s__1998__,  31, 789-–791)\n",
    "4. Ianniruberto, G. Quantitative appraisal of a new CCR model for entangled linear polymers. *Journal of Rheology* __2015__, 59, 211-235...\n",
    "$$\\begin{align}\n",
    "\\mathbf{S}_i(t) &= \\int_{-\\infty}^t \\left[\\frac{1}{\\tau_i(t')}\\right] \\exp \\left[-\\int_{t'}^t \\frac{dt''}{\\tau_i(t'')}\\right] \\mathbf{Q}\\left[\\mathbf{E}(t,t')\\right] dt' \\\\\n",
    "\\frac{d\\lambda}{dt} &= \\lambda\\boldsymbol{\\kappa}:\\overline{\\mathbf{S}} - \\frac{\\lambda F(\\lambda)-1}{\\tau_R} \\\\\n",
    "r &= \\mathbf{k}:\\overline{\\mathbf{S}} - \\frac{1}{\\lambda}\\frac{d\\lambda}{dt}\\\\\n",
    "\\frac{1}{\\tau_i(t)} &=\\frac{1}{\\tau_{i,eq}}+\\beta r\\\\\n",
    "F(\\lambda)&=\\left(\\frac{\\lambda_{max}^2-\\frac{\\lambda^2}{3}}{\\lambda_{max}^2-\\lambda^2}\\right)\\left(\\frac{\\lambda_{max}^2-1}{\\lambda_{max}^2-\\frac{1}{3}}\\right) \\\\\n",
    "\\overline{\\mathbf{S}} &= \\int_{-\\infty}^t \\left[\\frac{1}{\\tau_d(t')}\\right] \\exp \\left[-\\int_{t'}^t \\frac{dt''}{\\tau_d(t'')}\\right] \\mathbf{Q}\\left[\\mathbf{E}(t,t')\\right] dt'\\\\\n",
    "\\tau_d(t) &= \\frac{\\sum_iG_i\\tau_i^2(t)}{\\sum_i G_i\\tau_i(t)}\\\\\n",
    "\\boldsymbol{\\sigma} &= C_Q F(\\lambda)\\lambda^2\\sum{G_i\\boldsymbol{S}_i}\n",
    "\\end{align}$$  \n",
    "Here,\n",
    "$C_Q = 6$ if $\\mathbf{Q} = \\frac{\\mathbf{B}^{1/2}}{\\mathrm{Tr}\\mathbf{B}^{1/2}}$\n",
    "$r$ is tube loss rate, is non-negative difference represents the rate by which \"old\" tube is being lost at the chain ends because of flow and therefore constitutes the relevant quantity in the CCR model.  \n",
    "$\\beta$ is unknown coefficient, try $\\beta = 0.5$ or $\\beta=0.25$.  \n",
    "Tumbling term of $\\lambda$ (shear case only):  \n",
    "$$\\begin{align}\n",
    "\\phi (t) &= \\cos(2\\pi \\omega t)\\exp (-\\beta t)\\\\\n",
    "\\frac{d\\lambda}{dt} &= \\boldsymbol{\\kappa}:\\overline{\\mathbf{S}}\\phi(t)\\lambda - \\frac{F(\\lambda)\\lambda -1}{\\tau_R}\\\\\n",
    "\\omega &= \\frac{Wi_R^{-0.2}}{8\\pi}\\dot\\gamma \\\\\n",
    "\\beta &= \\frac{Wi_R^{-0.2}}{8}\\dot\\gamma\n",
    "\\end{align}$$"
   ]
  },
  {
   "cell_type": "markdown",
   "id": "2bf27c11-eb64-473c-add2-97c2e2227def",
   "metadata": {},
   "source": [
    "$$\\begin{align}\n",
    "\\mathbf{S}(t) =& \\int_{0}^t \\left[\\frac{1}{\\tau(t')}\\right] \\exp \\left[-\\int_{t'}^t \\frac{dt''}{\\tau(t'')}\\right] \\mathbf{Q}\\left[\\mathbf{E}(t,t')\\right] dt' \\\\\n",
    "&+\\int_{-\\infty}^0 \\left[\\frac{1}{\\tau(0)}\\right] \\exp \\left[-\\int_{t'}^t \\frac{dt''}{\\tau(t'')}\\right] \\mathbf{Q}\\left[\\mathbf{E}(t,0)\\right] dt' \n",
    "\\end{align}$$\n",
    "The second parts becomes:  \n",
    "$$\\begin{align}\n",
    "\\mathbf{S}(t) =& ...\\\\\n",
    "&+\\int_{-\\infty}^0 \\frac{1}{\\tau(0)} \\exp \\left[-\\int_{t'}^{0} \\frac{dt''}{\\tau(0)}-\\int_0^t\\frac{dt''}{\\tau(t'')}\\right] \\mathbf{Q}\\left[\\mathbf{E}(t,0)\\right] dt' \\\\\n",
    "=& ...\\\\\n",
    "&+\\int_{-\\infty}^0 \\frac{1}{\\tau(0)} \\exp \\left[\\frac{t'}{\\tau(0)}-\\int_0^t\\frac{dt''}{\\tau(t'')}\\right] \\mathbf{Q}\\left[\\mathbf{E}(t,0)\\right] dt' \\\\\n",
    "=& ...\\\\\n",
    "&+ \\exp \\left[\\frac{t'}{\\tau(0)}-\\int_0^t\\frac{dt''}{\\tau(t'')}\\right] \\mathbf{Q}\\left[\\mathbf{E}(t,0)\\right] \\bigg |_{t'=-\\infty}^{t'=0}\\\\\n",
    "=& ...\\\\\n",
    "&+ \\exp \\left[-\\int_0^t\\frac{dt''}{\\tau(t'')}\\right] \\mathbf{Q}\\left[\\mathbf{E}(t,0)\\right]\n",
    "\\end{align}$$"
   ]
  },
  {
   "cell_type": "code",
   "execution_count": 1,
   "id": "0402c5ac-0a97-4bd6-88fd-6cb668edc643",
   "metadata": {},
   "outputs": [],
   "source": [
    "import numpy as np\n",
    "import scipy as sp\n",
    "import pandas as pd\n",
    "from matplotlib import pylab"
   ]
  },
  {
   "cell_type": "code",
   "execution_count": 2,
   "id": "f937f31a-6120-44df-a472-22e3683173af",
   "metadata": {},
   "outputs": [],
   "source": [
    "#parameters for PS133k in ref: Costanzo, S. et al. Macromolecules 2016, 49, 3925-3935.\n",
    "GN0 = 2.79E5\n",
    "τc = 1.24E-3\n",
    "τR = 0.124\n",
    "λmax = 3.34\n",
    "CQ = 6\n",
    "β = 0.25\n",
    "Gi = np.array([1.14E2, 2.52, 8.80E-1, 3.81E-1, 2.07E-1, 1.70E-1, 1.76E-1, 1.37E-1, 2.03E-1]) * GN0\n",
    "τi_eq = np.array([2.16E-3, 5.90E-2, 3.33E-1, 1.53, 6.87, 2.9E1, 1.11E2, 3.63E2, 8.92E2]) * τc\n",
    "shear_rate = 31.6 # 1/s\n",
    "κ = np.array([[0,shear_rate,0],\\\n",
    "              [0,0,0],\\\n",
    "              [0,0,0]])\n",
    "δt = 0.001 # seconds\n",
    "finish_time = 10 # senconds\n",
    "t_span = np.arange(0,finish_time,δt)"
   ]
  },
  {
   "cell_type": "code",
   "execution_count": 3,
   "id": "7da40350-32c8-48b9-86c0-42c3237ba7f0",
   "metadata": {},
   "outputs": [],
   "source": [
    "def S_integral(Q_span,δt,t,τd_span):\n",
    "    \"\"\"\n",
    "    the Q_span,τd_span were trancate in the time t\n",
    "    usage: S_integral(Q_span[:ind+1,:,:],δt,τd_span[:ind+1])\n",
    "    \"\"\"\n",
    "    #\\int_t'^t dt''/taud(t'')\n",
    "    τd_inv = 1/τd_span\n",
    "    #exp[-\\int_t'^t dt''/taud(t'')]\n",
    "    exp_minus_int_tp_t_τd_inv = np.exp(-np.cumsum(τd_inv[::-1]) * δt)[::-1]\n",
    "    #integral from time=0 to time t\n",
    "    S00 = np.sum(τd_inv * exp_minus_int_tp_t_τd_inv * Q_span[::-1,0,0]) * δt\n",
    "    S01 = np.sum(τd_inv * exp_minus_int_tp_t_τd_inv * Q_span[::-1,0,1]) * δt\n",
    "    S02 = np.sum(τd_inv * exp_minus_int_tp_t_τd_inv * Q_span[::-1,0,2]) * δt\n",
    "    S11 = np.sum(τd_inv * exp_minus_int_tp_t_τd_inv * Q_span[::-1,1,1]) * δt\n",
    "    S12 = np.sum(τd_inv * exp_minus_int_tp_t_τd_inv * Q_span[::-1,1,2]) * δt\n",
    "    S22 = np.sum(τd_inv * exp_minus_int_tp_t_τd_inv * Q_span[::-1,2,2]) * δt\n",
    "    S_0_t = np.array([[S00,S01,S02],\\\n",
    "                    [S01,S11,S12],\\\n",
    "                    [S02,S12,S22]])\n",
    "    #plus the integral from time = 0 to time = -infinite\n",
    "    S = S_0_t + np.exp(-np.sum(1/τd_span)*δt) * Q_span[-1,:,:]\n",
    "    return S"
   ]
  },
  {
   "cell_type": "code",
   "execution_count": 7,
   "id": "cd80d3f3-996e-468d-a7d5-6058f1adba88",
   "metadata": {},
   "outputs": [],
   "source": [
    "Q_span = np.zeros([len(t_span),3,3]) # nonlinear strain measure\n",
    "S_average_span = np.zeros([len(t_span),3,3]) # orientation tensor\n",
    "Si_span = np.zeros([len(τi_eq),len(t_span),3,3]) # orientation tensor\n",
    "τi_span = np.zeros([len(τi_eq),len(t_span)]) # tau_i\n",
    "τd_span = np.zeros(len(t_span)) # tau_d\n",
    "λ_span = np.zeros(len(t_span)) # λ\n",
    "σ_span = np.zeros([len(t_span),3,3]) # σ stress\n",
    "τi_t = np.zeros_like(τi_eq) #τi at time t\n",
    "WiR = τR * shear_rate\n",
    "ω = WiR**(-0.2)/(8 * np.pi) * shear_rate\n",
    "β_angle = WiR**(-0.2)/8 * shear_rate\n",
    "φ_span = np.cos(2 * np.pi * ω * t_span) * np.exp( - β_angle * t_span)\n",
    "r = 0 # tube loss rate\n",
    "for ind,t in enumerate(t_span):\n",
    "    #initial the value at time = 0s \n",
    "    if ind == 0:\n",
    "        Q_span[0,:,:] = np.eye(3)/3\n",
    "        S_average_span[0,:,:] = np.eye(3)/3\n",
    "        for i in np.arange(len(τi_eq)):\n",
    "            Si_span[i,0,:,:] = np.eye(3)/3\n",
    "            if τi_eq[i] > τR:\n",
    "                τi_span[i,0] = τi_eq[i]  + τR\n",
    "            else:\n",
    "                τi_span[i,0] = τi_eq[i]\n",
    "        τd_span[0] = np.sum(Gi * τi_span[:,0]**2)/np.sum(Gi * τi_span[:,0])\n",
    "        λ_span[0] = 1\n",
    "        for i in np.arange(len(τi_eq)):\n",
    "            σ_span[0,:,:] += CQ * Gi[i] * Si_span[i,0,:,:]\n",
    "        continue\n",
    "    \n",
    "    #calculate the Q at time t.\n",
    "    γ_history = t * shear_rate\n",
    "    E = np.eye(3)\n",
    "    E[0,1] = γ_history\n",
    "    B = np.dot(E,E.T)\n",
    "    eigs, eig_vec = np.linalg.eig(B)\n",
    "    B_square_root = np.dot(eig_vec,np.dot(np.diag(np.sqrt(eigs)),eig_vec.T))\n",
    "    Q_span[ind,:,:] = B_square_root/np.trace(B_square_root)\n",
    "    \n",
    "    #calculate the τi(t)\n",
    "    for i in np.arange(len(τi_eq)):\n",
    "        #Si at time t\n",
    "        Si_t = Si_span[i,ind-1,:,:]\n",
    "        if τi_eq[i] > τR:\n",
    "            τi_t[i] = 1/(1/τi_eq[i] + β*r) + τR\n",
    "        else:\n",
    "            τi_t[i] = 1/(1/τi_eq[i] + β*r)\n",
    "        #Si at time t update\n",
    "        Si_t_update = S_integral(Q_span[:ind,:,:],δt,t,τi_span[i,:ind])\n",
    "        Si_span[i,ind,:,:] = Si_t_update\n",
    "    τi_span[:,ind] = τi_t\n",
    "    #τd = \\sum Giτi^2 / (\\sum Giτi)\n",
    "    τd_span[ind] = np.sum(Gi * τi_span[:,ind]**2)/np.sum(Gi * τi_span[:,ind])\n",
    "    #S_average at time t\n",
    "    S_average_t_update = S_integral(Q_span[:ind,:,:],δt,t,τd_span[:ind])\n",
    "    S_average_span[ind,:,:] = S_average_t_update\n",
    "    \n",
    "    #calculate the dλ_dt\n",
    "    λ = λ_span[ind-1]\n",
    "    Fλ = (λmax**2 - λ**2/3)/(λmax**2 - λ**2)*(λmax**2 - 1)/(λmax**2 - 1/3)\n",
    "    φ = φ_span[ind]\n",
    "    dλ_dt = φ * λ * np.trace(np.dot(κ,S_average_t_update)) - (λ * Fλ - 1) / τR\n",
    "    λ_update = λ + dλ_dt * δt\n",
    "    r =  np.trace(np.dot(κ,S_average_t_update)) - 1/λ_update*dλ_dt # update r, tube loss rate\n",
    "    λ_span[ind] = λ_update\n",
    "    Fλ_update = (λmax**2 - λ_update**2/3)/(λmax**2 - λ_update**2)*(λmax**2 - 1)/(λmax**2 - 1/3)\n",
    "    σ_update = np.zeros([3,3])\n",
    "    for i in np.arange(len(τi_eq)):\n",
    "        σ_update += CQ * Fλ_update * λ_update**2 * Gi[i] * Si_span[i,ind,:,:]\n",
    "    σ_span[ind] = σ_update"
   ]
  },
  {
   "cell_type": "code",
   "execution_count": 8,
   "id": "f75c43f4-fe0a-410a-895d-266dcf114d65",
   "metadata": {},
   "outputs": [
    {
     "data": {
      "text/plain": [
       "[<matplotlib.lines.Line2D at 0x1d6cc841990>]"
      ]
     },
     "execution_count": 8,
     "metadata": {},
     "output_type": "execute_result"
    },
    {
     "data": {
      "image/png": "[encoded data removed]",
      "text/plain": [
       "<Figure size 640x480 with 1 Axes>"
      ]
     },
     "metadata": {},
     "output_type": "display_data"
    }
   ],
   "source": [
    "pylab.loglog(t_span-δt,σ_span[:,0,1]/shear_rate,'bo')\n",
    "pylab.loglog(t_span-δt,(σ_span[:,0,0]-σ_span[:,1,1])/shear_rate,'r-')\n",
    "pylab.loglog(t_span-δt,(σ_span[:,2,2]-σ_span[:,1,1])/shear_rate,'g.')"
   ]
  },
  {
   "cell_type": "code",
   "execution_count": 9,
   "id": "7e305aaa-f65f-47ad-ba27-3aebd2bd2583",
   "metadata": {},
   "outputs": [
    {
     "data": {
      "text/plain": [
       "[<matplotlib.lines.Line2D at 0x1d6ca231090>]"
      ]
     },
     "execution_count": 9,
     "metadata": {},
     "output_type": "execute_result"
    },
    {
     "data": {
      "image/png": "[encoded data removed]",
      "text/plain": [
       "<Figure size 640x480 with 1 Axes>"
      ]
     },
     "metadata": {},
     "output_type": "display_data"
    }
   ],
   "source": [
    "pylab.semilogx(t_span,τd_span,'ro')\n",
    "pylab.semilogx(t_span,λ_span,'ko')\n",
    "pylab.semilogx(t_span,np.trace(Si_span[8,:,:,:],axis1=1,axis2=2),'bo')\n",
    "pylab.semilogx(t_span,np.trace(S_average_span,axis1=1,axis2=2),'go')"
   ]
  },
  {
   "cell_type": "markdown",
   "id": "8b5e9a58-5c57-4049-95df-353046812b55",
   "metadata": {},
   "source": [
    "## Approximation of nonlinear strain measure $\\mathbf{Q}\\left[\\mathbf{E}(t,t')\\right]$\n",
    "1. A highly accurate approximation for this strain measure is:  \n",
    "ref: chapter 11.3 of Dealy, J. M. Larson, R. G. Read, D. J. \"Structure and rheology of molten polymers, from structure to flow behavior and back again.\" __2018__, Carl Hanser Verlag GmbH Co KG.\n",
    "$$\\mathbf{Q} \\approx  \\left(\\frac{5}{J-1}\\right)\\mathbf{B} - \\left[\\frac{5}{(J-1)(I_2+13/4)^{1/2}}\\right]\\mathbf{C}$$\r",
    "here:  \n",
    "$$J\\equiv I_1+2(I_2+13/4)^{1/2}$$\n",
    "$$I_1\\equiv \\mathrm{Tr}(\\mathbf{B})$$\n",
    "$$I_2\\equiv \\mathrm{Tr}(\\mathbf{C})$$\n",
    "$\\mathbf{B}$ is the Finger tensor, and $\\mathbf{C}$ is the Cauchy tensor.  \n",
    "2. Marrucci et al. proposed another approximation of this strain measure, which gives a much improved prediction of the normal stress ratio in shear, namely $-N_2/N_1=1/4$ in the limit of small strains, as compared to Doi-Edwards value of 1/7. ref: Milner, S. T. Improved model of nonaffine strain measure. *Journal of Rheology* __2001__, 45, 1023-1028.\n",
    "$$\n",
    "\\mathbf{Q}(\\mathbf{E})=\\frac{\\mathbf{C}^{-1/2}}{\\mathrm{Tr}(\\mathbf{C^{-1/2}})}\n",
    "$$\n",
    "here:\n",
    "$\\mathbf{C}^{-1}=\\mathbf{E}\\cdot\\mathbf{E}^T$ is the finger tensor. $\\mathbf{E}$ is the inverse of displacement gradient tensor.\n"
   ]
  },
  {
   "cell_type": "code",
   "execution_count": null,
   "id": "ac0a3cc3-cdf0-421b-ade0-b0e127ba007a",
   "metadata": {},
   "outputs": [],
   "source": []
  },
  {
   "cell_type": "markdown",
   "id": "fdc31e80-9cfa-49ad-9011-64618513b7ee",
   "metadata": {},
   "source": [
    "## Finger Tensor $\\mathbf{B}$ and Cauchy Tensor $\\mathbf{C}$\n",
    "#### For simple shear:  \n",
    "$$\\mathbf{F} (t_0,t_1)=\\begin{pmatrix}\n",
    " 1 & \\gamma (t_1)-\\gamma (t_0) & 0\\\\\n",
    " 0 & 1 & 0\\\\\n",
    " 0 & 0 &1\n",
    "\\end{pmatrix}$$\n",
    "$$\\mathbf{E} (t_0,t_1)=\\begin{pmatrix}\n",
    " 1 & \\gamma (t_0)-\\gamma (t_1) & 0\\\\\n",
    " 0 & 1 & 0\\\\\n",
    " 0 & 0 &1\n",
    "\\end{pmatrix}$$  \n",
    "The Cauchy Tensor, also known as right Cauchy–Green deformation tensor, $\\mathbf{C}$:  \n",
    "$$\n",
    "\\begin{align}\n",
    "\\mathbf{C} &= \\mathbf{F}^T\\cdot\\mathbf{F} \\\\\n",
    "&=\\begin{pmatrix}\n",
    " 1 & \\gamma & 0\\\\\n",
    " \\gamma & 1+\\gamma^2 & 0\\\\\n",
    " 0 & 0 &1\n",
    "\\end{pmatrix}\n",
    "\\end{align}\n",
    "$$\n",
    "The Finger Tensor, also known as left Cauchy–Green deformation tensor, $\\mathbf{B}$:  \n",
    "$$\\begin{align}\n",
    "\\mathbf{B} &= \\mathbf{F}\\cdot\\mathbf{F}^{T} \\\\\n",
    "&=\\begin{pmatrix}\n",
    " 1+\\gamma^2 & \\gamma & 0\\\\\n",
    " \\gamma & 1 & 0\\\\\n",
    " 0 & 0 &1\n",
    "\\end{pmatrix}\n",
    "\\end{align}$$\n",
    "Sometimes, Finger strain tensor is also defined by inverse of Cauchy tensor as (ref: Milner, S. T. *Journal of Rheology* __2001__, 45, 1023-1028.):  \n",
    "$$\n",
    "\\mathbf{B} = \\mathbf{C}^{-1} = \\mathbf{E}\\cdot\\mathbf{E}^T = \\begin{pmatrix}\n",
    " 1+\\gamma^2 & -\\gamma & 0\\\\\n",
    " -\\gamma & 1 & 0\\\\\n",
    " 0 & 0 &1\n",
    "\\end{pmatrix}\n",
    "$$\n",
    "Here, the diagonal is the same, while the $B_{0,1}, B_{0,2}, B_{1,2}$ parts are negative.  "
   ]
  },
  {
   "cell_type": "code",
   "execution_count": null,
   "id": "eb57252a-6752-4c3d-98ec-d9a94efa3afe",
   "metadata": {},
   "outputs": [],
   "source": []
  }
 ],
 "metadata": {
  "kernelspec": {
   "display_name": "Python 3 (ipykernel)",
   "language": "python",
   "name": "python3"
  },
  "language_info": {
   "codemirror_mode": {
    "name": "ipython",
    "version": 3
   },
   "file_extension": ".py",
   "mimetype": "text/x-python",
   "name": "python",
   "nbconvert_exporter": "python",
   "pygments_lexer": "ipython3",
   "version": "3.11.5"
  }
 },
 "nbformat": 4,
 "nbformat_minor": 5
}
